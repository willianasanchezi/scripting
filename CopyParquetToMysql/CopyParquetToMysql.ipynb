{
 "cells": [
  {
   "cell_type": "code",
   "execution_count": 1,
   "id": "83410ec8-2aae-4230-b56a-d5d927a5d51e",
   "metadata": {},
   "outputs": [
    {
     "name": "stdout",
     "output_type": "stream",
     "text": [
      "Referencia\n"
     ]
    }
   ],
   "source": [
    "\"\"\"\n",
    "https://pypi.org/project/mysql-connector-python/\n",
    "https://dev.mysql.com/doc/dev/connector-python/latest/installation.html\n",
    "\"\"\"\n",
    "print(\"Referencia\")"
   ]
  },
  {
   "cell_type": "code",
   "execution_count": 2,
   "id": "814cc954-dd8d-40b5-bab4-29a9d675f644",
   "metadata": {},
   "outputs": [],
   "source": [
    "#!pip install -r requirements.txt"
   ]
  },
  {
   "cell_type": "code",
   "execution_count": 3,
   "id": "393d4951-5577-44a4-a016-3026002c708e",
   "metadata": {},
   "outputs": [],
   "source": [
    "import os\n",
    "import pandas as pd\n",
    "from tqdm import tqdm\n",
    "import mysql.connector\n",
    "\n",
    "from mysql.connector import Error\n",
    "from dotenv import load_dotenv"
   ]
  },
  {
   "cell_type": "code",
   "execution_count": 4,
   "id": "9e89a41a-0122-4719-be42-490de35da174",
   "metadata": {},
   "outputs": [
    {
     "data": {
      "text/plain": [
       "True"
      ]
     },
     "execution_count": 4,
     "metadata": {},
     "output_type": "execute_result"
    }
   ],
   "source": [
    "load_dotenv('.env')"
   ]
  },
  {
   "cell_type": "code",
   "execution_count": 5,
   "id": "8a112995-2d4e-400b-a959-16fa0b56855e",
   "metadata": {},
   "outputs": [],
   "source": [
    "archivoParquet = os.getenv(\"RutaArchivoParquet\")\n",
    "host = os.getenv(\"host\")\n",
    "port = os.getenv(\"port\")\n",
    "user = os.getenv(\"user\")\n",
    "password = os.getenv(\"password\")\n",
    "database = os.getenv(\"database\")\n",
    "table = os.getenv(\"table\")"
   ]
  },
  {
   "cell_type": "markdown",
   "id": "93142322-5048-4932-89d8-d4496ad41b0a",
   "metadata": {},
   "source": [
    "### Test Basico"
   ]
  },
  {
   "cell_type": "code",
   "execution_count": 6,
   "id": "9d2dabac-8b25-4364-9efa-806395fe724d",
   "metadata": {},
   "outputs": [
    {
     "name": "stdout",
     "output_type": "stream",
     "text": [
      "Current date is: 2025-03-13\n"
     ]
    }
   ],
   "source": [
    "# Conectarse al servidor\n",
    "cnx = mysql.connector.connect(\n",
    "    host=host,\n",
    "    port=port,\n",
    "    user=user,\n",
    "    password=password)\n",
    "\n",
    "# Obtener un cursor\n",
    "cur = cnx.cursor()\n",
    "\n",
    "# Ejecutar una consulta\n",
    "cur.execute(\"SELECT CURDATE()\")\n",
    "\n",
    "# Obtener un resultado\n",
    "row = cur.fetchone()\n",
    "print(\"Current date is: {0}\".format(row[0]))\n",
    "\n",
    "# Cerrar conexión\n",
    "cnx.close()"
   ]
  },
  {
   "cell_type": "code",
   "execution_count": 7,
   "id": "8025e8e6-de3b-4d2d-bae6-abe4cf87ca8f",
   "metadata": {},
   "outputs": [],
   "source": [
    "def leer_parquet(ruta_archivo):\n",
    "    try:\n",
    "        # Leer el archivo Parquet usando pandas\n",
    "        df = pd.read_parquet(ruta_archivo, engine='pyarrow')\n",
    "        print(\"Archivo Parquet leído exitosamente.\")\n",
    "        return df\n",
    "    except Exception as e:\n",
    "        print(f\"Error al leer el archivo Parquet: {e}\")\n",
    "        return None"
   ]
  },
  {
   "cell_type": "code",
   "execution_count": 8,
   "id": "b3091d80-7594-471a-8199-3d81b128cdae",
   "metadata": {},
   "outputs": [],
   "source": [
    "def conectar_mysql(host, user, port, password, database):\n",
    "    try:\n",
    "        conexion = mysql.connector.connect(\n",
    "            host=host,\n",
    "            port=port,\n",
    "            user=user,\n",
    "            password=password,\n",
    "            database=database\n",
    "        )\n",
    "        if conexion.is_connected():\n",
    "            print(\"Conexión exitosa a MySQL.\")\n",
    "            return conexion\n",
    "    except Error as e:\n",
    "        print(f\"Error al conectar a MySQL: {e}\")\n",
    "        return None"
   ]
  },
  {
   "cell_type": "code",
   "execution_count": 9,
   "id": "91be12eb-ba2e-405c-92e4-f99235a67095",
   "metadata": {},
   "outputs": [],
   "source": [
    "def insertar_datos(conexion, tabla, datos):  \n",
    "    try:  \n",
    "        cursor = conexion.cursor()  \n",
    "          \n",
    "        # Crear una consulta SQL para insertar datos  \n",
    "        columnas = \", \".join(datos.columns)  \n",
    "        placeholders = \", \".join([\"%s\"] * len(datos.columns))  \n",
    "        sql = f\"INSERT INTO {tabla} ({columnas}) VALUES ({placeholders})\"  \n",
    "          \n",
    "        # Convertir el DataFrame a una lista de tuplas  \n",
    "        valores = [tuple(row) for row in datos.to_numpy()]  \n",
    "          \n",
    "        # Ejecutar la consulta en lote con una barra de progreso  \n",
    "        for i in tqdm(range(0, len(valores), 1000), desc=\"Insertando datos\"):  \n",
    "            batch = valores[i:i + 1000]  \n",
    "            cursor.executemany(sql, batch)  \n",
    "            conexion.commit()  \n",
    "          \n",
    "        print(f\"{cursor.rowcount} filas insertadas exitosamente.\")  \n",
    "    except Error as e:  \n",
    "        print(f\"Error al insertar datos: {e}\")  \n",
    "    finally:  \n",
    "        cursor.close() "
   ]
  },
  {
   "cell_type": "code",
   "execution_count": 10,
   "id": "d38c9f66-fe24-4765-b92a-4afdd2d73bc7",
   "metadata": {},
   "outputs": [
    {
     "name": "stdout",
     "output_type": "stream",
     "text": [
      "Archivo Parquet leído exitosamente.\n"
     ]
    },
    {
     "data": {
      "text/plain": [
       "(105397, 16)"
      ]
     },
     "execution_count": 10,
     "metadata": {},
     "output_type": "execute_result"
    }
   ],
   "source": [
    "data = leer_parquet(archivoParquet)\n",
    "data.shape"
   ]
  },
  {
   "cell_type": "code",
   "execution_count": 11,
   "id": "97323a55-fc30-4eb4-8837-034846e0c724",
   "metadata": {},
   "outputs": [
    {
     "name": "stdout",
     "output_type": "stream",
     "text": [
      "Conexión exitosa a MySQL.\n"
     ]
    },
    {
     "name": "stderr",
     "output_type": "stream",
     "text": [
      "Insertando datos: 100%|████████████████████████████████████████████████████████████████████████████████████████████████████████████| 106/106 [00:44<00:00,  2.38it/s]"
     ]
    },
    {
     "name": "stdout",
     "output_type": "stream",
     "text": [
      "397 filas insertadas exitosamente.\n"
     ]
    },
    {
     "name": "stderr",
     "output_type": "stream",
     "text": [
      "\n"
     ]
    }
   ],
   "source": [
    "if data is not None:\n",
    "    # Conectar a MySQL\n",
    "    conexion = conectar_mysql(host, user, port, password, database)\n",
    "    if conexion:\n",
    "        # Insertar datos en MySQL\n",
    "        insertar_datos(conexion, table, data)\n",
    "        # Cerrar la conexión\n",
    "        conexion.close()"
   ]
  },
  {
   "cell_type": "markdown",
   "id": "6f04ed09-4e62-4a09-9226-003128e003b1",
   "metadata": {},
   "source": [
    "### Tener en cuenta"
   ]
  },
  {
   "cell_type": "markdown",
   "id": "074652d8-16a0-4d74-901e-5c3356d0c991",
   "metadata": {},
   "source": [
    "Primero se debe crear la base de datos, posterior la tabla basado en el tipo campos del parquet, "
   ]
  },
  {
   "cell_type": "code",
   "execution_count": null,
   "id": "95de3b46-48c0-41c1-8f54-a773b82a7904",
   "metadata": {},
   "outputs": [],
   "source": []
  }
 ],
 "metadata": {
  "kernelspec": {
   "display_name": "Python 3 (ipykernel)",
   "language": "python",
   "name": "python3"
  },
  "language_info": {
   "codemirror_mode": {
    "name": "ipython",
    "version": 3
   },
   "file_extension": ".py",
   "mimetype": "text/x-python",
   "name": "python",
   "nbconvert_exporter": "python",
   "pygments_lexer": "ipython3",
   "version": "3.10.1"
  }
 },
 "nbformat": 4,
 "nbformat_minor": 5
}
